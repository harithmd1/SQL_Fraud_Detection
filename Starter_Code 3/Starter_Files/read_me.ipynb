{
 "cells": [
  {
   "cell_type": "markdown",
   "metadata": {},
   "source": [
    "# SQL Challenge\n",
    "- Using the five csv files provided for card holder, credit card, merchant category, merchant and transaction, we created a schema for all the files, provided primary key information and data type.\n",
    "- We created Queries to join in files for the important information we want to extract, to identify card holder names and amount of trannsaction and dates. This has been successfuly done by using card holder file, then left joining card holder on id, then left joining credit card on id using the important coumns after we renamed the columns to avoid confusion and duplicates.\n",
    "- We used queries to extract data for low transactions below $2 and then also by telling which are the top 5, as outliers.\n",
    "- We used queries to extract data for early transactions, as outliers.\n",
    "- We used python to extract data from SQL using sqalchemy and engine, then reading the data frame.\n",
    "- We created functions to extract outliers by using the STD method and the IQR methos, then giving 3 examples for each.\n",
    "- We used queries to extract data for specific card holder id's (2,18) and plotted the data with hvplot.\n",
    "- We used queries to extract data for a certain period of time (January to June of 2018) and plotted the data with hvplot box plot."
   ]
  },
  {
   "cell_type": "code",
   "execution_count": null,
   "metadata": {},
   "outputs": [],
   "source": []
  }
 ],
 "metadata": {
  "language_info": {
   "name": "python"
  }
 },
 "nbformat": 4,
 "nbformat_minor": 2
}
